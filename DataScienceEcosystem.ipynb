{
 "cells": [
  {
   "cell_type": "markdown",
   "id": "50168e66-1cee-44a0-9aab-72e00130e610",
   "metadata": {},
   "source": [
    "# Data Science Tools and Ecosystem"
   ]
  },
  {
   "cell_type": "markdown",
   "id": "86f3a2c7-bc54-477d-b12f-e8751d81d725",
   "metadata": {},
   "source": [
    "In this notebook, Data Science Tools and Ecosystem are summarized."
   ]
  },
  {
   "cell_type": "markdown",
   "id": "fe10ec79-326b-4f39-806c-926b378bfa2c",
   "metadata": {},
   "source": [
    "Some of the popular languages that Data Scientists use are:\n",
    "1. Python\n",
    "2. R\n",
    "3. SQL"
   ]
  },
  {
   "cell_type": "markdown",
   "id": "aba797f5-eb9e-44d5-b2ed-249a541962b4",
   "metadata": {},
   "source": [
    "Some of the commonly used libraries used by Data Scientists include:\n",
    "1. Pandas\n",
    "2. NumPy\n",
    "3. ggplot"
   ]
  },
  {
   "cell_type": "markdown",
   "id": "3ee3d095-c288-4f12-9e99-5a5b6b01951b",
   "metadata": {},
   "source": [
    "|Data Science Tools|\n",
    "|------------------|\n",
    "|Apache CouchDB|\n",
    "|Mongo DB|\n",
    "|Hadoop|"
   ]
  },
  {
   "cell_type": "markdown",
   "id": "7b4ca4ec-deb9-493e-bee7-1e50f41920c8",
   "metadata": {},
   "source": [
    "### Below are a few examples of evaluating arithmetic expressions in Python"
   ]
  },
  {
   "cell_type": "markdown",
   "id": "e240ab33-ff77-4c16-880e-3133afc39c20",
   "metadata": {},
   "source": [
    "This a simple arithmetic expression to mutiply then add integers"
   ]
  },
  {
   "cell_type": "code",
   "execution_count": 1,
   "id": "88b8109d-6e4c-4c7e-b26a-301def7b5d7a",
   "metadata": {},
   "outputs": [
    {
     "data": {
      "text/plain": [
       "17"
      ]
     },
     "execution_count": 1,
     "metadata": {},
     "output_type": "execute_result"
    }
   ],
   "source": [
    "(3*4)+5"
   ]
  },
  {
   "cell_type": "markdown",
   "id": "5825b960-038c-4ff6-b6c4-70625270ee86",
   "metadata": {},
   "source": [
    "This will convert 200 minutes to hours by diving by 60"
   ]
  },
  {
   "cell_type": "code",
   "execution_count": 2,
   "id": "2cbb9fc4-35cd-4dd7-8a28-cecb17a10ab7",
   "metadata": {},
   "outputs": [
    {
     "data": {
      "text/plain": [
       "3.3333333333333335"
      ]
     },
     "execution_count": 2,
     "metadata": {},
     "output_type": "execute_result"
    }
   ],
   "source": [
    "200/60"
   ]
  },
  {
   "cell_type": "markdown",
   "id": "b062dae5-6ab2-48af-a918-c9a5571d1ecf",
   "metadata": {},
   "source": [
    "**Objectives:**\n",
    "- Packages, APIs, Data Sets and Models\n",
    "- Jupyter Notebooks\n",
    "- List popular libraries for Data Science\n",
    "- Describe R capabilities and RStudio environment"
   ]
  },
  {
   "cell_type": "markdown",
   "id": "85bba7ef-1180-4666-96f4-8e80bf3b1848",
   "metadata": {},
   "source": [
    "## Author\n",
    "Laura Valentina Pabón Cabezas"
   ]
  },
  {
   "cell_type": "code",
   "execution_count": null,
   "id": "d401f0d9-a61d-4473-b83e-5f197272c248",
   "metadata": {},
   "outputs": [],
   "source": []
  }
 ],
 "metadata": {
  "kernelspec": {
   "display_name": "Python 3 (ipykernel)",
   "language": "python",
   "name": "python3"
  },
  "language_info": {
   "codemirror_mode": {
    "name": "ipython",
    "version": 3
   },
   "file_extension": ".py",
   "mimetype": "text/x-python",
   "name": "python",
   "nbconvert_exporter": "python",
   "pygments_lexer": "ipython3",
   "version": "3.11.10"
  }
 },
 "nbformat": 4,
 "nbformat_minor": 5
}
